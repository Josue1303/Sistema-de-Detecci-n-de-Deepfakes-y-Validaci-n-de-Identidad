{
 "cells": [
  {
   "cell_type": "markdown",
   "id": "8bdc2e92",
   "metadata": {},
   "source": [
    "# Preprocesamiento utilizando mediapipe"
   ]
  },
  {
   "cell_type": "markdown",
   "id": "a6e5e75b",
   "metadata": {},
   "source": [
    "### Descripción de las Librerías\n",
    "\n",
    "Este notebook utiliza diversas librerías especializadas para el procesamiento de video, detección facial, extracción de puntos clave y manejo eficiente de archivos:\n",
    "\n",
    "* **OpenCV (`cv2`)**: Librería para procesamiento de imágenes y video. Se usa para leer videos, convertir formatos de imagen, recortar y guardar imágenes extraídas de los videos.\n",
    "* **MediaPipe (`mediapipe`)**: Biblioteca desarrollada por Google, especializada en soluciones de machine learning para tareas visuales. En este proyecto, se utiliza específicamente para detectar rostros y extraer puntos clave faciales (landmarks).\n",
    "* **NumPy (`numpy`)**: Librería para operaciones numéricas eficientes. Se utiliza para manipular arrays, realizar cálculos geométricos y almacenar vectores numéricos extraídos de los landmarks.\n",
    "* **Tqdm (`tqdm`)**: Herramienta que permite mostrar barras de progreso para dar retroalimentación visual sobre el avance del preprocesamiento.\n",
    "* **OS (`os`)**: Librería estándar de Python, utilizada para gestionar archivos y directorios, leer rutas, y manejar la estructura del sistema de archivos.\n",
    "\n",
    "---\n",
    "\n",
    "### Instalación de Dependencias\n",
    "\n",
    "A continuación se presentan los comandos necesarios para instalar las librerías mencionadas en un entorno virtual de Python (recomendado):\n",
    "\n",
    "```bash\n",
    "pip install opencv-python\n",
    "pip install mediapipe\n",
    "pip install numpy\n",
    "pip install tqdm\n",
    "```\n",
    "\n",
    "**Nota:**\n",
    "Es recomendable crear y activar un entorno virtual antes de ejecutar estas instalaciones para evitar conflictos de dependencias:\n",
    "\n",
    "```bash\n",
    "python -m venv .venv\n",
    "source .venv/bin/activate  # Linux/MacOS\n",
    ".venv\\Scripts\\activate     # Windows\n",
    "```\n",
    "\n",
    "Luego, ejecuta los comandos `pip install` mencionados anteriormente para asegurar que todas las dependencias estén correctamente instaladas.\n"
   ]
  },
  {
   "cell_type": "code",
   "execution_count": null,
   "id": "6133bcd6",
   "metadata": {},
   "outputs": [],
   "source": [
    "# Importación de la librerías\n",
    "import os\n",
    "import cv2\n",
    "import numpy as np\n",
    "import mediapipe as mp\n",
    "from tqdm import tqdm"
   ]
  },
  {
   "cell_type": "code",
   "execution_count": 5,
   "id": "1b433974",
   "metadata": {},
   "outputs": [],
   "source": [
    "# Configuración de rutas\n",
    "input_base_path = r\"C:/Users/Hermanos/Desktop/Proyecto Deepfake/FaceForensics++_C23\"\n",
    "output_path = r\"C:/Users/Hermanos/Desktop/Proyecto Deepfake/preprocesamiento_mediapipe\"\n",
    "deepfake_folders = [\"DeepFakeDetection\", \"Deepfakes\", \"Face2Face\", \"FaceShifter\", \"FaceSwap\"]\n",
    "original_folder = \"original\"\n"
   ]
  },
  {
   "cell_type": "markdown",
   "id": "49a0bfa6",
   "metadata": {},
   "source": [
    "### Explicación Detallada del Código\n",
    "\n",
    "#### 🔹 Parámetros Generales\n",
    "\n",
    "Se definen parámetros globales utilizados durante el proceso de preprocesamiento:\n",
    "\n",
    "* **`max_original_videos = 1000`**\n",
    "  Define el máximo número de videos originales (\"reales\") que se procesarán desde la carpeta de datos originales.\n",
    "\n",
    "* **`max_fake_videos_per_folder = 200`**\n",
    "  Define el máximo número de videos deepfake que se procesarán por cada tipo de manipulación (por ejemplo, DeepFakeDetection, FaceSwap, etc.).\n",
    "\n",
    "* **`target_frame_count = 16`**\n",
    "  Cantidad objetivo de imágenes (frames) que se extraerán por cada video.\n",
    "\n",
    "* **`output_img_size = (256, 256)`**\n",
    "  Tamaño estándar al que se redimensionarán las imágenes extraídas.\n",
    "\n",
    "---\n",
    "\n",
    "#### 🔹 Inicialización de MediaPipe Face Mesh\n",
    "\n",
    "```python\n",
    "mp_face_mesh = mp.solutions.face_mesh\n",
    "face_mesh = mp_face_mesh.FaceMesh(static_image_mode=True, max_num_faces=1)\n",
    "```\n",
    "\n",
    "Inicializa la solución Face Mesh de MediaPipe, configurada para trabajar con imágenes estáticas (no video continuo) y detectar solamente un rostro por imagen.\n",
    "\n",
    "---\n",
    "\n",
    "#### 🔹 Funciones Clave del Preprocesamiento\n",
    "\n",
    "A continuación, se explican individualmente las funciones clave del proceso:\n",
    "\n",
    "#### 1. **`extract_landmark_vector(landmarks, image_shape)`**\n",
    "\n",
    "**Descripción:**\n",
    "Extrae un vector numérico basado en distancias clave entre puntos faciales detectados (landmarks). El vector generado servirá para identificar patrones espaciales del rostro, esenciales para detectar deepfakes.\n",
    "\n",
    "**¿Cómo se utiliza?**\n",
    "Recibe los landmarks faciales detectados por MediaPipe y las dimensiones de la imagen para escalar correctamente los puntos.\n",
    "\n",
    "**Distancias calculadas:**\n",
    "\n",
    "* Distancia entre ojos.\n",
    "* Ancho de boca.\n",
    "* Altura de nariz.\n",
    "* Distancia entre ojo izquierdo y extremo izquierdo de boca.\n",
    "* Distancia entre ojo derecho y extremo derecho de boca.\n",
    "\n",
    "---\n",
    "\n",
    "#### 2. **`crop_face_from_landmarks(landmarks, image_bgr)`**\n",
    "\n",
    "**Descripción:**\n",
    "Recorta la región del rostro detectado, basado en los puntos faciales proporcionados por MediaPipe. La región recortada se redimensiona a una resolución estándar definida previamente (`256x256` píxeles).\n",
    "\n",
    "**¿Cómo se utiliza?**\n",
    "Recibe los landmarks faciales y la imagen original en formato BGR (de OpenCV), extrayendo una región del rostro adecuada para análisis posteriores.\n",
    "\n",
    "---\n",
    "\n",
    "#### 3. **`process_video(video_path, output_dir, label, num_frames_needed=16, candidate_frames=60)`**\n",
    "\n",
    "**Descripción:**\n",
    "Función principal que procesa un video individual para extraer hasta `num_frames_needed` (16 por defecto) imágenes válidas del rostro y sus correspondientes vectores de landmarks.\n",
    "\n",
    "**Pasos Internos:**\n",
    "\n",
    "* Lee el video y extrae una muestra uniformemente distribuida de frames candidatos.\n",
    "* Para cada frame candidato:\n",
    "\n",
    "  * Convierte la imagen de BGR a RGB.\n",
    "  * Usa MediaPipe Face Mesh para detectar rostros y extraer landmarks.\n",
    "  * Extrae imágenes recortadas del rostro y vectores numéricos asociados.\n",
    "* Guarda las imágenes y vectores generados en formato `.jpg` y `.npy` respectivamente.\n",
    "* Si no consigue suficientes frames válidos (menos de 16), descarta el video y genera un mensaje informativo.\n",
    "\n",
    "**¿Cómo se utiliza?**\n",
    "Se llama de forma individual para cada video, dentro del procesamiento por carpeta, asegurando una consistencia en el formato de datos generados para entrenamiento.\n",
    "\n",
    "---\n",
    "\n",
    "#### 4. **`process_folder(folder_name, max_videos, label)`**\n",
    "\n",
    "**Descripción:**\n",
    "Administra el procesamiento masivo de videos por carpeta, asegurando que se procesen únicamente un máximo predefinido (`max_videos`).\n",
    "\n",
    "**Pasos Internos:**\n",
    "\n",
    "* Recorre los videos presentes en la carpeta especificada.\n",
    "* Llama a la función `process_video()` para cada video encontrado.\n",
    "* Muestra el progreso con la barra visual proporcionada por `tqdm`.\n",
    "\n",
    "**¿Cómo se utiliza?**\n",
    "Se ejecuta separadamente por cada categoría de videos (originales y deepfakes). Esta función asegura que el preprocesamiento se realice de manera estructurada y controlada.\n",
    "\n",
    "\n"
   ]
  },
  {
   "cell_type": "code",
   "execution_count": 11,
   "id": "337c96cf",
   "metadata": {},
   "outputs": [],
   "source": [
    "# Parámetros\n",
    "max_original_videos = 1000\n",
    "max_fake_videos_per_folder = 200\n",
    "target_frame_count = 16  # frames por video\n",
    "output_img_size = (256, 256)\n",
    "\n",
    "# Inicializar MediaPipe\n",
    "mp_face_mesh = mp.solutions.face_mesh\n",
    "face_mesh = mp_face_mesh.FaceMesh(static_image_mode=True, max_num_faces=1)\n",
    "\n",
    "def extract_landmark_vector(landmarks, image_shape):\n",
    "    h, w, _ = image_shape\n",
    "    coords = [(lm.x * w, lm.y * h) for lm in landmarks.landmark]\n",
    "\n",
    "    def dist(p1, p2):\n",
    "        return np.linalg.norm(np.array(coords[p1]) - np.array(coords[p2]))\n",
    "\n",
    "    return np.array([\n",
    "        dist(33, 263),  # entre ojos\n",
    "        dist(61, 291),  # ancho de boca\n",
    "        dist(1, 199),   # altura nariz\n",
    "        dist(33, 61),   # ojo izq - boca izq\n",
    "        dist(263, 291), # ojo der - boca der\n",
    "    ])\n",
    "\n",
    "def crop_face_from_landmarks(landmarks, image_bgr):\n",
    "    h, w, _ = image_bgr.shape\n",
    "    coords = [(int(lm.x * w), int(lm.y * h)) for lm in landmarks.landmark]\n",
    "    xs, ys = zip(*coords)\n",
    "    x_min, x_max = max(min(xs)-20, 0), min(max(xs)+20, w)\n",
    "    y_min, y_max = max(min(ys)-20, 0), min(max(ys)+20, h)\n",
    "    face_crop = image_bgr[y_min:y_max, x_min:x_max]\n",
    "    return cv2.resize(face_crop, output_img_size)\n",
    "\n",
    "def process_video(video_path, output_dir, label, num_frames_needed=16, candidate_frames=60):\n",
    "    cap = cv2.VideoCapture(video_path)\n",
    "    total_frames = int(cap.get(cv2.CAP_PROP_FRAME_COUNT))\n",
    "    if total_frames < 1:\n",
    "        cap.release()\n",
    "        return\n",
    "\n",
    "    frame_indices = np.linspace(0, total_frames - 1, candidate_frames).astype(int)\n",
    "    video_id = os.path.splitext(os.path.basename(video_path))[0]\n",
    "    saved_images = []\n",
    "    saved_vectors = []\n",
    "\n",
    "    for idx, frame_idx in enumerate(frame_indices):\n",
    "        if len(saved_images) >= num_frames_needed:\n",
    "            break\n",
    "        cap.set(cv2.CAP_PROP_POS_FRAMES, frame_idx)\n",
    "        ret, frame = cap.read()\n",
    "        if not ret:\n",
    "            continue\n",
    "\n",
    "        image_rgb = cv2.cvtColor(frame, cv2.COLOR_BGR2RGB)\n",
    "        results = face_mesh.process(image_rgb)\n",
    "\n",
    "        if results.multi_face_landmarks:\n",
    "            landmarks = results.multi_face_landmarks[0]\n",
    "            try:\n",
    "                face_img = crop_face_from_landmarks(landmarks, frame)\n",
    "                vector = extract_landmark_vector(landmarks, frame.shape)\n",
    "\n",
    "                saved_images.append((idx, face_img))\n",
    "                saved_vectors.append((idx, vector))\n",
    "            except:\n",
    "                continue\n",
    "\n",
    "    cap.release()\n",
    "\n",
    "    if len(saved_images) < num_frames_needed:\n",
    "        print(f\"[DESCARTADO] Solo se generaron {len(saved_images)}/16 muestras válidas para el video: {video_id}\")\n",
    "        return\n",
    "\n",
    "    os.makedirs(output_dir, exist_ok=True)\n",
    "    for i, (idx, img) in enumerate(saved_images[:num_frames_needed]):\n",
    "        img_path = os.path.join(output_dir, f\"{video_id}_{i}.jpg\")\n",
    "        cv2.imwrite(img_path, img)\n",
    "\n",
    "    for i, (idx, vec) in enumerate(saved_vectors[:num_frames_needed]):\n",
    "        vec_path = os.path.join(output_dir, f\"{video_id}_{i}.npy\")\n",
    "        np.save(vec_path, vec)\n",
    "\n",
    "\n",
    "def process_folder(folder_name, max_videos, label):\n",
    "    folder_path = os.path.join(input_base_path, folder_name)\n",
    "    output_dir = os.path.join(output_path, folder_name)\n",
    "    os.makedirs(output_dir, exist_ok=True)\n",
    "\n",
    "    videos = [f for f in os.listdir(folder_path) if f.endswith(\".mp4\")]\n",
    "    for video in tqdm(videos[:max_videos], desc=f\"Procesando {folder_name}\"):\n",
    "        video_path = os.path.join(folder_path, video)\n",
    "        process_video(video_path, output_dir, label)"
   ]
  },
  {
   "cell_type": "code",
   "execution_count": 12,
   "id": "cd0ea568",
   "metadata": {},
   "outputs": [
    {
     "name": "stderr",
     "output_type": "stream",
     "text": [
      "Procesando original:   3%|▎         | 34/1000 [00:14<13:03,  1.23it/s]"
     ]
    },
    {
     "name": "stdout",
     "output_type": "stream",
     "text": [
      "[DESCARTADO] Solo se generaron 13/16 muestras válidas para el video: 033\n"
     ]
    },
    {
     "name": "stderr",
     "output_type": "stream",
     "text": [
      "Procesando original:  10%|▉         | 97/1000 [00:48<36:14,  2.41s/it]"
     ]
    },
    {
     "name": "stdout",
     "output_type": "stream",
     "text": [
      "[DESCARTADO] Solo se generaron 0/16 muestras válidas para el video: 096\n"
     ]
    },
    {
     "name": "stderr",
     "output_type": "stream",
     "text": [
      "Procesando original:  16%|█▌        | 157/1000 [01:14<09:51,  1.42it/s]"
     ]
    },
    {
     "name": "stdout",
     "output_type": "stream",
     "text": [
      "[DESCARTADO] Solo se generaron 0/16 muestras válidas para el video: 156\n"
     ]
    },
    {
     "name": "stderr",
     "output_type": "stream",
     "text": [
      "Procesando original:  20%|██        | 203/1000 [01:36<08:51,  1.50it/s]"
     ]
    },
    {
     "name": "stdout",
     "output_type": "stream",
     "text": [
      "[DESCARTADO] Solo se generaron 11/16 muestras válidas para el video: 202\n"
     ]
    },
    {
     "name": "stderr",
     "output_type": "stream",
     "text": [
      "Procesando original:  22%|██▏       | 222/1000 [01:47<14:26,  1.11s/it]"
     ]
    },
    {
     "name": "stdout",
     "output_type": "stream",
     "text": [
      "[DESCARTADO] Solo se generaron 0/16 muestras válidas para el video: 221\n"
     ]
    },
    {
     "name": "stderr",
     "output_type": "stream",
     "text": [
      "Procesando original:  24%|██▍       | 238/1000 [01:58<17:03,  1.34s/it]"
     ]
    },
    {
     "name": "stdout",
     "output_type": "stream",
     "text": [
      "[DESCARTADO] Solo se generaron 0/16 muestras válidas para el video: 237\n"
     ]
    },
    {
     "name": "stderr",
     "output_type": "stream",
     "text": [
      "Procesando original:  26%|██▌       | 255/1000 [02:08<12:58,  1.04s/it]"
     ]
    },
    {
     "name": "stdout",
     "output_type": "stream",
     "text": [
      "[DESCARTADO] Solo se generaron 6/16 muestras válidas para el video: 254\n"
     ]
    },
    {
     "name": "stderr",
     "output_type": "stream",
     "text": [
      "Procesando original:  28%|██▊       | 282/1000 [02:21<11:21,  1.05it/s]"
     ]
    },
    {
     "name": "stdout",
     "output_type": "stream",
     "text": [
      "[DESCARTADO] Solo se generaron 6/16 muestras válidas para el video: 281\n"
     ]
    },
    {
     "name": "stderr",
     "output_type": "stream",
     "text": [
      "Procesando original:  38%|███▊      | 377/1000 [03:07<12:33,  1.21s/it]"
     ]
    },
    {
     "name": "stdout",
     "output_type": "stream",
     "text": [
      "[DESCARTADO] Solo se generaron 6/16 muestras válidas para el video: 376\n"
     ]
    },
    {
     "name": "stderr",
     "output_type": "stream",
     "text": [
      "Procesando original:  43%|████▎     | 428/1000 [03:36<09:50,  1.03s/it]"
     ]
    },
    {
     "name": "stdout",
     "output_type": "stream",
     "text": [
      "[DESCARTADO] Solo se generaron 0/16 muestras válidas para el video: 427\n"
     ]
    },
    {
     "name": "stderr",
     "output_type": "stream",
     "text": [
      "Procesando original:  46%|████▌     | 457/1000 [03:53<10:53,  1.20s/it]"
     ]
    },
    {
     "name": "stdout",
     "output_type": "stream",
     "text": [
      "[DESCARTADO] Solo se generaron 0/16 muestras válidas para el video: 456\n"
     ]
    },
    {
     "name": "stderr",
     "output_type": "stream",
     "text": [
      "Procesando original:  49%|████▉     | 492/1000 [04:15<19:56,  2.35s/it]"
     ]
    },
    {
     "name": "stdout",
     "output_type": "stream",
     "text": [
      "[DESCARTADO] Solo se generaron 0/16 muestras válidas para el video: 491\n"
     ]
    },
    {
     "name": "stderr",
     "output_type": "stream",
     "text": [
      "Procesando original:  55%|█████▍    | 548/1000 [04:45<14:59,  1.99s/it]"
     ]
    },
    {
     "name": "stdout",
     "output_type": "stream",
     "text": [
      "[DESCARTADO] Solo se generaron 0/16 muestras válidas para el video: 547\n"
     ]
    },
    {
     "name": "stderr",
     "output_type": "stream",
     "text": [
      "Procesando original:  57%|█████▋    | 568/1000 [04:59<05:40,  1.27it/s]"
     ]
    },
    {
     "name": "stdout",
     "output_type": "stream",
     "text": [
      "[DESCARTADO] Solo se generaron 5/16 muestras válidas para el video: 567\n"
     ]
    },
    {
     "name": "stderr",
     "output_type": "stream",
     "text": [
      "Procesando original:  65%|██████▍   | 648/1000 [05:46<11:55,  2.03s/it]"
     ]
    },
    {
     "name": "stdout",
     "output_type": "stream",
     "text": [
      "[DESCARTADO] Solo se generaron 0/16 muestras válidas para el video: 647\n"
     ]
    },
    {
     "name": "stderr",
     "output_type": "stream",
     "text": [
      "Procesando original:  65%|██████▍   | 649/1000 [05:48<12:36,  2.16s/it]"
     ]
    },
    {
     "name": "stdout",
     "output_type": "stream",
     "text": [
      "[DESCARTADO] Solo se generaron 8/16 muestras válidas para el video: 648\n"
     ]
    },
    {
     "name": "stderr",
     "output_type": "stream",
     "text": [
      "Procesando original:  69%|██████▊   | 687/1000 [06:07<06:12,  1.19s/it]"
     ]
    },
    {
     "name": "stdout",
     "output_type": "stream",
     "text": [
      "[DESCARTADO] Solo se generaron 15/16 muestras válidas para el video: 686\n"
     ]
    },
    {
     "name": "stderr",
     "output_type": "stream",
     "text": [
      "Procesando original:  72%|███████▏  | 723/1000 [06:33<09:05,  1.97s/it]"
     ]
    },
    {
     "name": "stdout",
     "output_type": "stream",
     "text": [
      "[DESCARTADO] Solo se generaron 2/16 muestras válidas para el video: 722\n"
     ]
    },
    {
     "name": "stderr",
     "output_type": "stream",
     "text": [
      "Procesando original:  76%|███████▌  | 760/1000 [06:58<09:42,  2.43s/it]"
     ]
    },
    {
     "name": "stdout",
     "output_type": "stream",
     "text": [
      "[DESCARTADO] Solo se generaron 0/16 muestras válidas para el video: 759\n"
     ]
    },
    {
     "name": "stderr",
     "output_type": "stream",
     "text": [
      "Procesando original:  78%|███████▊  | 777/1000 [07:11<08:14,  2.22s/it]"
     ]
    },
    {
     "name": "stdout",
     "output_type": "stream",
     "text": [
      "[DESCARTADO] Solo se generaron 0/16 muestras válidas para el video: 776\n"
     ]
    },
    {
     "name": "stderr",
     "output_type": "stream",
     "text": [
      "Procesando original:  82%|████████▏ | 818/1000 [07:35<03:24,  1.12s/it]"
     ]
    },
    {
     "name": "stdout",
     "output_type": "stream",
     "text": [
      "[DESCARTADO] Solo se generaron 10/16 muestras válidas para el video: 817\n"
     ]
    },
    {
     "name": "stderr",
     "output_type": "stream",
     "text": [
      "Procesando original:  82%|████████▎ | 825/1000 [07:43<04:25,  1.52s/it]"
     ]
    },
    {
     "name": "stdout",
     "output_type": "stream",
     "text": [
      "[DESCARTADO] Solo se generaron 1/16 muestras válidas para el video: 824\n"
     ]
    },
    {
     "name": "stderr",
     "output_type": "stream",
     "text": [
      "Procesando original:  86%|████████▋ | 863/1000 [08:05<03:11,  1.40s/it]"
     ]
    },
    {
     "name": "stdout",
     "output_type": "stream",
     "text": [
      "[DESCARTADO] Solo se generaron 5/16 muestras válidas para el video: 862\n"
     ]
    },
    {
     "name": "stderr",
     "output_type": "stream",
     "text": [
      "Procesando original:  88%|████████▊ | 881/1000 [08:22<04:10,  2.11s/it]"
     ]
    },
    {
     "name": "stdout",
     "output_type": "stream",
     "text": [
      "[DESCARTADO] Solo se generaron 0/16 muestras válidas para el video: 880\n"
     ]
    },
    {
     "name": "stderr",
     "output_type": "stream",
     "text": [
      "Procesando original:  92%|█████████▏| 924/1000 [08:46<01:50,  1.45s/it]"
     ]
    },
    {
     "name": "stdout",
     "output_type": "stream",
     "text": [
      "[DESCARTADO] Solo se generaron 12/16 muestras válidas para el video: 923\n"
     ]
    },
    {
     "name": "stderr",
     "output_type": "stream",
     "text": [
      "Procesando original: 100%|██████████| 1000/1000 [09:22<00:00,  1.78it/s]\n",
      "Procesando DeepFakeDetection:   0%|          | 1/200 [00:04<13:19,  4.02s/it]"
     ]
    },
    {
     "name": "stdout",
     "output_type": "stream",
     "text": [
      "[DESCARTADO] Solo se generaron 0/16 muestras válidas para el video: 01_02__meeting_serious__YVGY8LOK\n"
     ]
    },
    {
     "name": "stderr",
     "output_type": "stream",
     "text": [
      "Procesando DeepFakeDetection:   2%|▎         | 5/200 [00:12<07:26,  2.29s/it]"
     ]
    },
    {
     "name": "stdout",
     "output_type": "stream",
     "text": [
      "[DESCARTADO] Solo se generaron 3/16 muestras válidas para el video: 01_02__walk_down_hall_angry__YVGY8LOK\n"
     ]
    },
    {
     "name": "stderr",
     "output_type": "stream",
     "text": [
      "Procesando DeepFakeDetection:   6%|▌         | 11/200 [00:21<06:46,  2.15s/it]"
     ]
    },
    {
     "name": "stdout",
     "output_type": "stream",
     "text": [
      "[DESCARTADO] Solo se generaron 0/16 muestras válidas para el video: 01_04__meeting_serious__0XUW13RW\n"
     ]
    },
    {
     "name": "stderr",
     "output_type": "stream",
     "text": [
      "Procesando DeepFakeDetection:   6%|▋         | 13/200 [00:26<07:02,  2.26s/it]"
     ]
    },
    {
     "name": "stdout",
     "output_type": "stream",
     "text": [
      "[DESCARTADO] Solo se generaron 3/16 muestras válidas para el video: 01_04__walk_down_hall_angry__GBC7ZGDP\n"
     ]
    },
    {
     "name": "stderr",
     "output_type": "stream",
     "text": [
      "Procesando DeepFakeDetection:   8%|▊         | 16/200 [00:33<07:44,  2.52s/it]"
     ]
    },
    {
     "name": "stdout",
     "output_type": "stream",
     "text": [
      "[DESCARTADO] Solo se generaron 0/16 muestras válidas para el video: 01_11__meeting_serious__9OM3VE0Y\n"
     ]
    },
    {
     "name": "stderr",
     "output_type": "stream",
     "text": [
      "Procesando DeepFakeDetection:   8%|▊         | 17/200 [00:37<09:02,  2.97s/it]"
     ]
    },
    {
     "name": "stdout",
     "output_type": "stream",
     "text": [
      "[DESCARTADO] Solo se generaron 0/16 muestras válidas para el video: 01_11__meeting_serious__FCNL2OVP\n"
     ]
    },
    {
     "name": "stderr",
     "output_type": "stream",
     "text": [
      "Procesando DeepFakeDetection:   9%|▉         | 18/200 [00:41<10:15,  3.38s/it]"
     ]
    },
    {
     "name": "stdout",
     "output_type": "stream",
     "text": [
      "[DESCARTADO] Solo se generaron 14/16 muestras válidas para el video: 01_11__outside_talking_pan_laughing__WIZ7GKOD\n"
     ]
    },
    {
     "name": "stderr",
     "output_type": "stream",
     "text": [
      "Procesando DeepFakeDetection:  10%|▉         | 19/200 [00:45<10:37,  3.52s/it]"
     ]
    },
    {
     "name": "stdout",
     "output_type": "stream",
     "text": [
      "[DESCARTADO] Solo se generaron 0/16 muestras válidas para el video: 01_11__secret_conversation__4OJNJLOO\n"
     ]
    },
    {
     "name": "stderr",
     "output_type": "stream",
     "text": [
      "Procesando DeepFakeDetection:  12%|█▏        | 24/200 [00:52<06:38,  2.26s/it]"
     ]
    },
    {
     "name": "stdout",
     "output_type": "stream",
     "text": [
      "[DESCARTADO] Solo se generaron 11/16 muestras válidas para el video: 01_12__outside_talking_pan_laughing__TNI7KUZ6\n"
     ]
    },
    {
     "name": "stderr",
     "output_type": "stream",
     "text": [
      "Procesando DeepFakeDetection:  12%|█▎        | 25/200 [00:56<07:27,  2.56s/it]"
     ]
    },
    {
     "name": "stdout",
     "output_type": "stream",
     "text": [
      "[DESCARTADO] Solo se generaron 14/16 muestras válidas para el video: 01_12__outside_talking_still_laughing__TNI7KUZ6\n"
     ]
    },
    {
     "name": "stderr",
     "output_type": "stream",
     "text": [
      "Procesando DeepFakeDetection:  13%|█▎        | 26/200 [00:59<07:48,  2.70s/it]"
     ]
    },
    {
     "name": "stdout",
     "output_type": "stream",
     "text": [
      "[DESCARTADO] Solo se generaron 1/16 muestras válidas para el video: 01_15__exit_phone_room__02HILKYO\n"
     ]
    },
    {
     "name": "stderr",
     "output_type": "stream",
     "text": [
      "Procesando DeepFakeDetection:  14%|█▍        | 28/200 [01:03<07:41,  2.68s/it]"
     ]
    },
    {
     "name": "stdout",
     "output_type": "stream",
     "text": [
      "[DESCARTADO] Solo se generaron 0/16 muestras válidas para el video: 01_15__meeting_serious__02HILKYO\n"
     ]
    },
    {
     "name": "stderr",
     "output_type": "stream",
     "text": [
      "Procesando DeepFakeDetection:  14%|█▍        | 29/200 [01:08<09:03,  3.18s/it]"
     ]
    },
    {
     "name": "stdout",
     "output_type": "stream",
     "text": [
      "[DESCARTADO] Solo se generaron 15/16 muestras válidas para el video: 01_15__outside_talking_pan_laughing__02HILKYO\n"
     ]
    },
    {
     "name": "stderr",
     "output_type": "stream",
     "text": [
      "Procesando DeepFakeDetection:  17%|█▋        | 34/200 [01:20<07:44,  2.80s/it]"
     ]
    },
    {
     "name": "stdout",
     "output_type": "stream",
     "text": [
      "[DESCARTADO] Solo se generaron 3/16 muestras válidas para el video: 01_20__walk_down_hall_angry__FW94AIMJ\n"
     ]
    },
    {
     "name": "stderr",
     "output_type": "stream",
     "text": [
      "Procesando DeepFakeDetection:  18%|█▊        | 36/200 [01:24<07:01,  2.57s/it]"
     ]
    },
    {
     "name": "stdout",
     "output_type": "stream",
     "text": [
      "[DESCARTADO] Solo se generaron 3/16 muestras válidas para el video: 01_21__walk_down_hall_angry__03X7CELV\n"
     ]
    },
    {
     "name": "stderr",
     "output_type": "stream",
     "text": [
      "Procesando DeepFakeDetection:  20%|█▉        | 39/200 [01:32<07:24,  2.76s/it]"
     ]
    },
    {
     "name": "stdout",
     "output_type": "stream",
     "text": [
      "[DESCARTADO] Solo se generaron 0/16 muestras válidas para el video: 01_27__meeting_serious__ZYCZ30C0\n"
     ]
    },
    {
     "name": "stderr",
     "output_type": "stream",
     "text": [
      "Procesando DeepFakeDetection:  20%|██        | 41/200 [01:39<08:22,  3.16s/it]"
     ]
    },
    {
     "name": "stdout",
     "output_type": "stream",
     "text": [
      "[DESCARTADO] Solo se generaron 14/16 muestras válidas para el video: 01_27__outside_talking_still_laughing__ZYCZ30C0\n"
     ]
    },
    {
     "name": "stderr",
     "output_type": "stream",
     "text": [
      "Procesando DeepFakeDetection:  22%|██▏       | 44/200 [01:48<08:18,  3.19s/it]"
     ]
    },
    {
     "name": "stdout",
     "output_type": "stream",
     "text": [
      "[DESCARTADO] Solo se generaron 1/16 muestras válidas para el video: 02_01__secret_conversation__YVGY8LOK\n"
     ]
    },
    {
     "name": "stderr",
     "output_type": "stream",
     "text": [
      "Procesando DeepFakeDetection:  23%|██▎       | 46/200 [01:52<07:25,  2.89s/it]"
     ]
    },
    {
     "name": "stdout",
     "output_type": "stream",
     "text": [
      "[DESCARTADO] Solo se generaron 4/16 muestras válidas para el video: 02_01__walking_outside_cafe_disgusted__YVGY8LOK\n"
     ]
    },
    {
     "name": "stderr",
     "output_type": "stream",
     "text": [
      "Procesando DeepFakeDetection:  24%|██▎       | 47/200 [01:57<08:19,  3.27s/it]"
     ]
    },
    {
     "name": "stdout",
     "output_type": "stream",
     "text": [
      "[DESCARTADO] Solo se generaron 6/16 muestras válidas para el video: 02_03__walking_down_street_outside_angry__QH3Y0IG0\n"
     ]
    },
    {
     "name": "stderr",
     "output_type": "stream",
     "text": [
      "Procesando DeepFakeDetection:  24%|██▍       | 48/200 [02:00<08:34,  3.38s/it]"
     ]
    },
    {
     "name": "stdout",
     "output_type": "stream",
     "text": [
      "[DESCARTADO] Solo se generaron 4/16 muestras válidas para el video: 02_03__walking_outside_cafe_disgusted__QH3Y0IG0\n"
     ]
    },
    {
     "name": "stderr",
     "output_type": "stream",
     "text": [
      "Procesando DeepFakeDetection:  24%|██▍       | 49/200 [02:04<08:33,  3.40s/it]"
     ]
    },
    {
     "name": "stdout",
     "output_type": "stream",
     "text": [
      "[DESCARTADO] Solo se generaron 3/16 muestras válidas para el video: 02_04__podium_speech_happy__8CH7R4LW\n"
     ]
    },
    {
     "name": "stderr",
     "output_type": "stream",
     "text": [
      "Procesando DeepFakeDetection:  25%|██▌       | 50/200 [02:07<08:34,  3.43s/it]"
     ]
    },
    {
     "name": "stdout",
     "output_type": "stream",
     "text": [
      "[DESCARTADO] Solo se generaron 4/16 muestras válidas para el video: 02_06__exit_phone_room__HZAXM70B\n"
     ]
    },
    {
     "name": "stderr",
     "output_type": "stream",
     "text": [
      "Procesando DeepFakeDetection:  26%|██▌       | 51/200 [02:11<08:32,  3.44s/it]"
     ]
    },
    {
     "name": "stdout",
     "output_type": "stream",
     "text": [
      "[DESCARTADO] Solo se generaron 3/16 muestras válidas para el video: 02_06__podium_speech_happy__N8OSN8P6\n"
     ]
    },
    {
     "name": "stderr",
     "output_type": "stream",
     "text": [
      "Procesando DeepFakeDetection:  26%|██▌       | 52/200 [02:14<08:30,  3.45s/it]"
     ]
    },
    {
     "name": "stdout",
     "output_type": "stream",
     "text": [
      "[DESCARTADO] Solo se generaron 6/16 muestras válidas para el video: 02_06__podium_speech_happy__SU4OQCS9\n"
     ]
    },
    {
     "name": "stderr",
     "output_type": "stream",
     "text": [
      "Procesando DeepFakeDetection:  29%|██▉       | 58/200 [02:24<05:11,  2.19s/it]"
     ]
    },
    {
     "name": "stdout",
     "output_type": "stream",
     "text": [
      "[DESCARTADO] Solo se generaron 5/16 muestras válidas para el video: 02_06__walk_down_hall_angry__0M6JNS5D\n"
     ]
    },
    {
     "name": "stderr",
     "output_type": "stream",
     "text": [
      "Procesando DeepFakeDetection:  30%|██▉       | 59/200 [02:27<06:07,  2.60s/it]"
     ]
    },
    {
     "name": "stdout",
     "output_type": "stream",
     "text": [
      "[DESCARTADO] Solo se generaron 3/16 muestras válidas para el video: 02_07__exit_phone_room__9NVRE2KQ\n"
     ]
    },
    {
     "name": "stderr",
     "output_type": "stream",
     "text": [
      "Procesando DeepFakeDetection:  30%|███       | 61/200 [02:33<06:29,  2.80s/it]"
     ]
    },
    {
     "name": "stdout",
     "output_type": "stream",
     "text": [
      "[DESCARTADO] Solo se generaron 0/16 muestras válidas para el video: 02_07__meeting_serious__1JCLEEBQ\n"
     ]
    },
    {
     "name": "stderr",
     "output_type": "stream",
     "text": [
      "Procesando DeepFakeDetection:  31%|███       | 62/200 [02:37<07:18,  3.18s/it]"
     ]
    },
    {
     "name": "stdout",
     "output_type": "stream",
     "text": [
      "[DESCARTADO] Solo se generaron 15/16 muestras válidas para el video: 02_07__outside_talking_pan_laughing__O4SXNLRL\n"
     ]
    },
    {
     "name": "stderr",
     "output_type": "stream",
     "text": [
      "Procesando DeepFakeDetection:  32%|███▏      | 63/200 [02:41<08:02,  3.52s/it]"
     ]
    },
    {
     "name": "stdout",
     "output_type": "stream",
     "text": [
      "[DESCARTADO] Solo se generaron 1/16 muestras válidas para el video: 02_07__secret_conversation__0IYV5DQ5\n"
     ]
    },
    {
     "name": "stderr",
     "output_type": "stream",
     "text": [
      "Procesando DeepFakeDetection:  32%|███▎      | 65/200 [02:47<07:30,  3.34s/it]"
     ]
    },
    {
     "name": "stdout",
     "output_type": "stream",
     "text": [
      "[DESCARTADO] Solo se generaron 5/16 muestras válidas para el video: 02_07__walking_down_street_outside_angry__O4SXNLRL\n"
     ]
    },
    {
     "name": "stderr",
     "output_type": "stream",
     "text": [
      "Procesando DeepFakeDetection:  33%|███▎      | 66/200 [02:51<07:25,  3.33s/it]"
     ]
    },
    {
     "name": "stdout",
     "output_type": "stream",
     "text": [
      "[DESCARTADO] Solo se generaron 4/16 muestras válidas para el video: 02_07__walk_down_hall_angry__U7DEOZNV\n"
     ]
    },
    {
     "name": "stderr",
     "output_type": "stream",
     "text": [
      "Procesando DeepFakeDetection:  34%|███▎      | 67/200 [02:54<07:31,  3.39s/it]"
     ]
    },
    {
     "name": "stdout",
     "output_type": "stream",
     "text": [
      "[DESCARTADO] Solo se generaron 2/16 muestras válidas para el video: 02_09__exit_phone_room__HIH8YA82\n"
     ]
    },
    {
     "name": "stderr",
     "output_type": "stream",
     "text": [
      "Procesando DeepFakeDetection:  36%|███▌      | 71/200 [03:04<06:20,  2.95s/it]"
     ]
    },
    {
     "name": "stdout",
     "output_type": "stream",
     "text": [
      "[DESCARTADO] Solo se generaron 8/16 muestras válidas para el video: 02_09__podium_speech_happy__9TDCEK1Q\n"
     ]
    },
    {
     "name": "stderr",
     "output_type": "stream",
     "text": [
      "Procesando DeepFakeDetection:  36%|███▋      | 73/200 [03:09<06:14,  2.95s/it]"
     ]
    },
    {
     "name": "stdout",
     "output_type": "stream",
     "text": [
      "[DESCARTADO] Solo se generaron 11/16 muestras válidas para el video: 02_09__walking_down_street_outside_angry__6KUOFMZW\n"
     ]
    },
    {
     "name": "stderr",
     "output_type": "stream",
     "text": [
      "Procesando DeepFakeDetection:  37%|███▋      | 74/200 [03:13<06:24,  3.06s/it]"
     ]
    },
    {
     "name": "stdout",
     "output_type": "stream",
     "text": [
      "[DESCARTADO] Solo se generaron 4/16 muestras válidas para el video: 02_09__walk_down_hall_angry__6KUOFMZW\n"
     ]
    },
    {
     "name": "stderr",
     "output_type": "stream",
     "text": [
      "Procesando DeepFakeDetection:  38%|███▊      | 75/200 [03:17<06:55,  3.32s/it]"
     ]
    },
    {
     "name": "stdout",
     "output_type": "stream",
     "text": [
      "[DESCARTADO] Solo se generaron 0/16 muestras válidas para el video: 02_11__meeting_serious__NZJ1YEWE\n"
     ]
    },
    {
     "name": "stderr",
     "output_type": "stream",
     "text": [
      "Procesando DeepFakeDetection:  38%|███▊      | 76/200 [03:20<06:51,  3.32s/it]"
     ]
    },
    {
     "name": "stdout",
     "output_type": "stream",
     "text": [
      "[DESCARTADO] Solo se generaron 4/16 muestras válidas para el video: 02_12__podium_speech_happy__9D2ZHEKW\n"
     ]
    },
    {
     "name": "stderr",
     "output_type": "stream",
     "text": [
      "Procesando DeepFakeDetection:  39%|███▉      | 78/200 [03:25<06:09,  3.03s/it]"
     ]
    },
    {
     "name": "stdout",
     "output_type": "stream",
     "text": [
      "[DESCARTADO] Solo se generaron 3/16 muestras válidas para el video: 02_13__exit_phone_room__CP5HFV3K\n"
     ]
    },
    {
     "name": "stderr",
     "output_type": "stream",
     "text": [
      "Procesando DeepFakeDetection:  40%|████      | 81/200 [03:32<05:21,  2.70s/it]"
     ]
    },
    {
     "name": "stdout",
     "output_type": "stream",
     "text": [
      "[DESCARTADO] Solo se generaron 0/16 muestras válidas para el video: 02_13__meeting_serious__CP5HFV3K\n"
     ]
    },
    {
     "name": "stderr",
     "output_type": "stream",
     "text": [
      "Procesando DeepFakeDetection:  42%|████▏     | 84/200 [03:41<05:51,  3.03s/it]"
     ]
    },
    {
     "name": "stdout",
     "output_type": "stream",
     "text": [
      "[DESCARTADO] Solo se generaron 3/16 muestras válidas para el video: 02_13__podium_speech_happy__2YSYT2N3\n"
     ]
    },
    {
     "name": "stderr",
     "output_type": "stream",
     "text": [
      "Procesando DeepFakeDetection:  42%|████▎     | 85/200 [03:43<05:01,  2.62s/it]"
     ]
    },
    {
     "name": "stdout",
     "output_type": "stream",
     "text": [
      "[DESCARTADO] Solo se generaron 0/16 muestras válidas para el video: 02_13__secret_conversation__CP5HFV3K\n"
     ]
    },
    {
     "name": "stderr",
     "output_type": "stream",
     "text": [
      "Procesando DeepFakeDetection:  43%|████▎     | 86/200 [03:47<05:53,  3.10s/it]"
     ]
    },
    {
     "name": "stdout",
     "output_type": "stream",
     "text": [
      "[DESCARTADO] Solo se generaron 0/16 muestras válidas para el video: 02_13__secret_conversation__PLNVLO74\n"
     ]
    },
    {
     "name": "stderr",
     "output_type": "stream",
     "text": [
      "Procesando DeepFakeDetection:  44%|████▍     | 88/200 [03:53<05:41,  3.05s/it]"
     ]
    },
    {
     "name": "stdout",
     "output_type": "stream",
     "text": [
      "[DESCARTADO] Solo se generaron 15/16 muestras válidas para el video: 02_14__outside_talking_pan_laughing__3IUBEKCT\n"
     ]
    },
    {
     "name": "stderr",
     "output_type": "stream",
     "text": [
      "Procesando DeepFakeDetection:  44%|████▍     | 89/200 [03:56<05:53,  3.19s/it]"
     ]
    },
    {
     "name": "stdout",
     "output_type": "stream",
     "text": [
      "[DESCARTADO] Solo se generaron 2/16 muestras válidas para el video: 02_15__exit_phone_room__I8G2LWD1\n"
     ]
    },
    {
     "name": "stderr",
     "output_type": "stream",
     "text": [
      "Procesando DeepFakeDetection:  45%|████▌     | 90/200 [04:00<06:01,  3.28s/it]"
     ]
    },
    {
     "name": "stdout",
     "output_type": "stream",
     "text": [
      "[DESCARTADO] Solo se generaron 1/16 muestras válidas para el video: 02_15__exit_phone_room__MZWH8ATN\n"
     ]
    },
    {
     "name": "stderr",
     "output_type": "stream",
     "text": [
      "Procesando DeepFakeDetection:  47%|████▋     | 94/200 [04:08<04:44,  2.68s/it]"
     ]
    },
    {
     "name": "stdout",
     "output_type": "stream",
     "text": [
      "[DESCARTADO] Solo se generaron 0/16 muestras válidas para el video: 02_15__meeting_serious__MZWH8ATN\n"
     ]
    },
    {
     "name": "stderr",
     "output_type": "stream",
     "text": [
      "Procesando DeepFakeDetection:  48%|████▊     | 97/200 [04:18<05:23,  3.14s/it]"
     ]
    },
    {
     "name": "stdout",
     "output_type": "stream",
     "text": [
      "[DESCARTADO] Solo se generaron 4/16 muestras válidas para el video: 02_15__podium_speech_happy__MZWH8ATN\n"
     ]
    },
    {
     "name": "stderr",
     "output_type": "stream",
     "text": [
      "Procesando DeepFakeDetection:  49%|████▉     | 98/200 [04:20<04:37,  2.72s/it]"
     ]
    },
    {
     "name": "stdout",
     "output_type": "stream",
     "text": [
      "[DESCARTADO] Solo se generaron 0/16 muestras válidas para el video: 02_15__secret_conversation__MZWH8ATN\n"
     ]
    },
    {
     "name": "stderr",
     "output_type": "stream",
     "text": [
      "Procesando DeepFakeDetection:  52%|█████▎    | 105/200 [04:32<03:31,  2.22s/it]"
     ]
    },
    {
     "name": "stdout",
     "output_type": "stream",
     "text": [
      "[DESCARTADO] Solo se generaron 4/16 muestras válidas para el video: 02_15__walking_outside_cafe_disgusted__MZWH8ATN\n"
     ]
    },
    {
     "name": "stderr",
     "output_type": "stream",
     "text": [
      "Procesando DeepFakeDetection:  53%|█████▎    | 106/200 [04:35<03:59,  2.54s/it]"
     ]
    },
    {
     "name": "stdout",
     "output_type": "stream",
     "text": [
      "[DESCARTADO] Solo se generaron 5/16 muestras válidas para el video: 02_15__walk_down_hall_angry__TN2CWM3K\n"
     ]
    },
    {
     "name": "stderr",
     "output_type": "stream",
     "text": [
      "Procesando DeepFakeDetection:  54%|█████▎    | 107/200 [04:39<04:22,  2.83s/it]"
     ]
    },
    {
     "name": "stdout",
     "output_type": "stream",
     "text": [
      "[DESCARTADO] Solo se generaron 2/16 muestras válidas para el video: 02_18__exit_phone_room__OXMEEFUQ\n"
     ]
    },
    {
     "name": "stderr",
     "output_type": "stream",
     "text": [
      "Procesando DeepFakeDetection:  54%|█████▍    | 108/200 [04:43<04:53,  3.19s/it]"
     ]
    },
    {
     "name": "stdout",
     "output_type": "stream",
     "text": [
      "[DESCARTADO] Solo se generaron 14/16 muestras válidas para el video: 02_18__outside_talking_pan_laughing__OXMEEFUQ\n"
     ]
    },
    {
     "name": "stderr",
     "output_type": "stream",
     "text": [
      "Procesando DeepFakeDetection:  55%|█████▍    | 109/200 [04:47<05:19,  3.51s/it]"
     ]
    },
    {
     "name": "stdout",
     "output_type": "stream",
     "text": [
      "[DESCARTADO] Solo se generaron 2/16 muestras válidas para el video: 02_18__secret_conversation__B95S4G6F\n"
     ]
    },
    {
     "name": "stderr",
     "output_type": "stream",
     "text": [
      "Procesando DeepFakeDetection:  55%|█████▌    | 110/200 [04:51<05:33,  3.71s/it]"
     ]
    },
    {
     "name": "stdout",
     "output_type": "stream",
     "text": [
      "[DESCARTADO] Solo se generaron 8/16 muestras válidas para el video: 02_18__walking_down_street_outside_angry__21JTDDEL\n"
     ]
    },
    {
     "name": "stderr",
     "output_type": "stream",
     "text": [
      "Procesando DeepFakeDetection:  56%|█████▌    | 111/200 [04:55<05:22,  3.62s/it]"
     ]
    },
    {
     "name": "stdout",
     "output_type": "stream",
     "text": [
      "[DESCARTADO] Solo se generaron 6/16 muestras válidas para el video: 02_18__walk_down_hall_angry__B95S4G6F\n"
     ]
    },
    {
     "name": "stderr",
     "output_type": "stream",
     "text": [
      "Procesando DeepFakeDetection:  58%|█████▊    | 117/200 [05:05<03:25,  2.47s/it]"
     ]
    },
    {
     "name": "stdout",
     "output_type": "stream",
     "text": [
      "[DESCARTADO] Solo se generaron 9/16 muestras válidas para el video: 02_27__walking_down_street_outside_angry__3L1MLH3D\n"
     ]
    },
    {
     "name": "stderr",
     "output_type": "stream",
     "text": [
      "Procesando DeepFakeDetection:  59%|█████▉    | 118/200 [05:08<03:42,  2.72s/it]"
     ]
    },
    {
     "name": "stdout",
     "output_type": "stream",
     "text": [
      "[DESCARTADO] Solo se generaron 4/16 muestras válidas para el video: 02_27__walk_down_hall_angry__78M8S6M6\n"
     ]
    },
    {
     "name": "stderr",
     "output_type": "stream",
     "text": [
      "Procesando DeepFakeDetection:  60%|█████▉    | 119/200 [05:12<04:08,  3.07s/it]"
     ]
    },
    {
     "name": "stdout",
     "output_type": "stream",
     "text": [
      "[DESCARTADO] Solo se generaron 0/16 muestras válidas para el video: 03_01__meeting_serious__JZUXXFRB\n"
     ]
    },
    {
     "name": "stderr",
     "output_type": "stream",
     "text": [
      "Procesando DeepFakeDetection:  60%|██████    | 120/200 [05:16<04:16,  3.21s/it]"
     ]
    },
    {
     "name": "stdout",
     "output_type": "stream",
     "text": [
      "[DESCARTADO] Solo se generaron 0/16 muestras válidas para el video: 03_01__outside_talking_still_laughing__JZUXXFRB\n"
     ]
    },
    {
     "name": "stderr",
     "output_type": "stream",
     "text": [
      "Procesando DeepFakeDetection:  62%|██████▏   | 123/200 [05:20<02:37,  2.04s/it]"
     ]
    },
    {
     "name": "stdout",
     "output_type": "stream",
     "text": [
      "[DESCARTADO] Solo se generaron 13/16 muestras válidas para el video: 03_02__secret_conversation__GYX5OFTD\n"
     ]
    },
    {
     "name": "stderr",
     "output_type": "stream",
     "text": [
      "Procesando DeepFakeDetection:  62%|██████▏   | 124/200 [05:24<03:23,  2.68s/it]"
     ]
    },
    {
     "name": "stdout",
     "output_type": "stream",
     "text": [
      "[DESCARTADO] Solo se generaron 2/16 muestras válidas para el video: 03_04__outside_talking_pan_laughing__T04P6ELC\n"
     ]
    },
    {
     "name": "stderr",
     "output_type": "stream",
     "text": [
      "Procesando DeepFakeDetection:  63%|██████▎   | 126/200 [05:29<03:17,  2.67s/it]"
     ]
    },
    {
     "name": "stdout",
     "output_type": "stream",
     "text": [
      "[DESCARTADO] Solo se generaron 8/16 muestras válidas para el video: 03_06__exit_phone_room__1IXGY2FK\n"
     ]
    },
    {
     "name": "stderr",
     "output_type": "stream",
     "text": [
      "Procesando DeepFakeDetection:  64%|██████▍   | 128/200 [05:34<03:16,  2.73s/it]"
     ]
    },
    {
     "name": "stdout",
     "output_type": "stream",
     "text": [
      "[DESCARTADO] Solo se generaron 0/16 muestras válidas para el video: 03_06__meeting_serious__83ABVHC3\n"
     ]
    },
    {
     "name": "stderr",
     "output_type": "stream",
     "text": [
      "Procesando DeepFakeDetection:  65%|██████▌   | 130/200 [05:39<03:07,  2.68s/it]"
     ]
    },
    {
     "name": "stdout",
     "output_type": "stream",
     "text": [
      "[DESCARTADO] Solo se generaron 11/16 muestras válidas para el video: 03_07__exit_phone_room__6PHZRQ4H\n"
     ]
    },
    {
     "name": "stderr",
     "output_type": "stream",
     "text": [
      "Procesando DeepFakeDetection:  69%|██████▉   | 138/200 [05:51<02:11,  2.12s/it]"
     ]
    },
    {
     "name": "stdout",
     "output_type": "stream",
     "text": [
      "[DESCARTADO] Solo se generaron 2/16 muestras válidas para el video: 03_07__walk_down_hall_angry__6PHZRQ4H\n"
     ]
    },
    {
     "name": "stderr",
     "output_type": "stream",
     "text": [
      "Procesando DeepFakeDetection:  70%|██████▉   | 139/200 [05:55<02:35,  2.54s/it]"
     ]
    },
    {
     "name": "stdout",
     "output_type": "stream",
     "text": [
      "[DESCARTADO] Solo se generaron 2/16 muestras válidas para el video: 03_07__walk_down_hall_angry__IFSURI9X\n"
     ]
    },
    {
     "name": "stderr",
     "output_type": "stream",
     "text": [
      "Procesando DeepFakeDetection:  70%|███████   | 141/200 [05:59<02:27,  2.50s/it]"
     ]
    },
    {
     "name": "stdout",
     "output_type": "stream",
     "text": [
      "[DESCARTADO] Solo se generaron 1/16 muestras válidas para el video: 03_09__outside_talking_still_laughing__RCETIXYL\n"
     ]
    },
    {
     "name": "stderr",
     "output_type": "stream",
     "text": [
      "Procesando DeepFakeDetection:  71%|███████   | 142/200 [06:04<02:55,  3.03s/it]"
     ]
    },
    {
     "name": "stdout",
     "output_type": "stream",
     "text": [
      "[DESCARTADO] Solo se generaron 5/16 muestras válidas para el video: 03_09__secret_conversation__RCETIXYL\n"
     ]
    },
    {
     "name": "stderr",
     "output_type": "stream",
     "text": [
      "Procesando DeepFakeDetection:  72%|███████▏  | 143/200 [06:07<03:04,  3.24s/it]"
     ]
    },
    {
     "name": "stdout",
     "output_type": "stream",
     "text": [
      "[DESCARTADO] Solo se generaron 9/16 muestras válidas para el video: 03_11__exit_phone_room__P08VGHTA\n"
     ]
    },
    {
     "name": "stderr",
     "output_type": "stream",
     "text": [
      "Procesando DeepFakeDetection:  72%|███████▎  | 145/200 [06:12<02:34,  2.80s/it]"
     ]
    },
    {
     "name": "stdout",
     "output_type": "stream",
     "text": [
      "[DESCARTADO] Solo se generaron 2/16 muestras válidas para el video: 03_11__walk_down_hall_angry__P08VGHTA\n"
     ]
    },
    {
     "name": "stderr",
     "output_type": "stream",
     "text": [
      "Procesando DeepFakeDetection:  73%|███████▎  | 146/200 [06:15<02:46,  3.08s/it]"
     ]
    },
    {
     "name": "stdout",
     "output_type": "stream",
     "text": [
      "[DESCARTADO] Solo se generaron 10/16 muestras válidas para el video: 03_13__exit_phone_room__GBYWJW06\n"
     ]
    },
    {
     "name": "stderr",
     "output_type": "stream",
     "text": [
      "Procesando DeepFakeDetection:  74%|███████▍  | 148/200 [06:20<02:28,  2.86s/it]"
     ]
    },
    {
     "name": "stdout",
     "output_type": "stream",
     "text": [
      "[DESCARTADO] Solo se generaron 0/16 muestras válidas para el video: 03_13__meeting_serious__GBYWJW06\n"
     ]
    },
    {
     "name": "stderr",
     "output_type": "stream",
     "text": [
      "Procesando DeepFakeDetection:  74%|███████▍  | 149/200 [06:24<02:41,  3.17s/it]"
     ]
    },
    {
     "name": "stdout",
     "output_type": "stream",
     "text": [
      "[DESCARTADO] Solo se generaron 0/16 muestras válidas para el video: 03_13__meeting_serious__T3MZOI8X\n"
     ]
    },
    {
     "name": "stderr",
     "output_type": "stream",
     "text": [
      "Procesando DeepFakeDetection:  75%|███████▌  | 150/200 [06:28<02:44,  3.28s/it]"
     ]
    },
    {
     "name": "stdout",
     "output_type": "stream",
     "text": [
      "[DESCARTADO] Solo se generaron 0/16 muestras válidas para el video: 03_13__outside_talking_still_laughing__GBYWJW06\n"
     ]
    },
    {
     "name": "stderr",
     "output_type": "stream",
     "text": [
      "Procesando DeepFakeDetection:  76%|███████▌  | 152/200 [06:32<02:19,  2.91s/it]"
     ]
    },
    {
     "name": "stdout",
     "output_type": "stream",
     "text": [
      "[DESCARTADO] Solo se generaron 12/16 muestras válidas para el video: 03_14__exit_phone_room__H0VQHGS3\n"
     ]
    },
    {
     "name": "stderr",
     "output_type": "stream",
     "text": [
      "Procesando DeepFakeDetection:  76%|███████▋  | 153/200 [06:36<02:30,  3.20s/it]"
     ]
    },
    {
     "name": "stdout",
     "output_type": "stream",
     "text": [
      "[DESCARTADO] Solo se generaron 0/16 muestras válidas para el video: 03_14__meeting_serious__KJ221YN0\n"
     ]
    },
    {
     "name": "stderr",
     "output_type": "stream",
     "text": [
      "Procesando DeepFakeDetection:  77%|███████▋  | 154/200 [06:40<02:36,  3.41s/it]"
     ]
    },
    {
     "name": "stdout",
     "output_type": "stream",
     "text": [
      "[DESCARTADO] Solo se generaron 0/16 muestras válidas para el video: 03_14__meeting_serious__PLCQJM81\n"
     ]
    },
    {
     "name": "stderr",
     "output_type": "stream",
     "text": [
      "Procesando DeepFakeDetection:  79%|███████▉  | 158/200 [06:49<02:02,  2.91s/it]"
     ]
    },
    {
     "name": "stdout",
     "output_type": "stream",
     "text": [
      "[DESCARTADO] Solo se generaron 1/16 muestras válidas para el video: 03_14__walking_down_street_outside_angry__H0VQHGS3\n"
     ]
    },
    {
     "name": "stderr",
     "output_type": "stream",
     "text": [
      "Procesando DeepFakeDetection:  80%|███████▉  | 159/200 [06:52<02:07,  3.10s/it]"
     ]
    },
    {
     "name": "stdout",
     "output_type": "stream",
     "text": [
      "[DESCARTADO] Solo se generaron 3/16 muestras válidas para el video: 03_14__walk_down_hall_angry__P1L5PF4I\n"
     ]
    },
    {
     "name": "stderr",
     "output_type": "stream",
     "text": [
      "Procesando DeepFakeDetection:  81%|████████  | 162/200 [06:58<01:37,  2.55s/it]"
     ]
    },
    {
     "name": "stdout",
     "output_type": "stream",
     "text": [
      "[DESCARTADO] Solo se generaron 0/16 muestras válidas para el video: 03_15__meeting_serious__DNUJD8M2\n"
     ]
    },
    {
     "name": "stderr",
     "output_type": "stream",
     "text": [
      "Procesando DeepFakeDetection:  82%|████████▏ | 163/200 [07:02<01:49,  2.95s/it]"
     ]
    },
    {
     "name": "stdout",
     "output_type": "stream",
     "text": [
      "[DESCARTADO] Solo se generaron 0/16 muestras válidas para el video: 03_15__meeting_serious__OY4I7ZU8\n"
     ]
    },
    {
     "name": "stderr",
     "output_type": "stream",
     "text": [
      "Procesando DeepFakeDetection:  82%|████████▏ | 164/200 [07:06<01:59,  3.32s/it]"
     ]
    },
    {
     "name": "stdout",
     "output_type": "stream",
     "text": [
      "[DESCARTADO] Solo se generaron 2/16 muestras válidas para el video: 03_15__outside_talking_pan_laughing__Y11NT1YX\n"
     ]
    },
    {
     "name": "stderr",
     "output_type": "stream",
     "text": [
      "Procesando DeepFakeDetection:  82%|████████▎ | 165/200 [07:10<01:58,  3.37s/it]"
     ]
    },
    {
     "name": "stdout",
     "output_type": "stream",
     "text": [
      "[DESCARTADO] Solo se generaron 1/16 muestras válidas para el video: 03_15__outside_talking_still_laughing__DNUJD8M2\n"
     ]
    },
    {
     "name": "stderr",
     "output_type": "stream",
     "text": [
      "Procesando DeepFakeDetection:  86%|████████▌ | 171/200 [07:19<01:02,  2.17s/it]"
     ]
    },
    {
     "name": "stdout",
     "output_type": "stream",
     "text": [
      "[DESCARTADO] Solo se generaron 2/16 muestras válidas para el video: 03_20__walk_down_hall_angry__61SVZ2J7\n"
     ]
    },
    {
     "name": "stderr",
     "output_type": "stream",
     "text": [
      "Procesando DeepFakeDetection:  86%|████████▌ | 172/200 [07:23<01:13,  2.62s/it]"
     ]
    },
    {
     "name": "stdout",
     "output_type": "stream",
     "text": [
      "[DESCARTADO] Solo se generaron 9/16 muestras válidas para el video: 03_21__exit_phone_room__YCSEBZO4\n"
     ]
    },
    {
     "name": "stderr",
     "output_type": "stream",
     "text": [
      "Procesando DeepFakeDetection:  87%|████████▋ | 174/200 [07:27<01:08,  2.64s/it]"
     ]
    },
    {
     "name": "stdout",
     "output_type": "stream",
     "text": [
      "[DESCARTADO] Solo se generaron 0/16 muestras válidas para el video: 03_21__meeting_serious__V53E3RVB\n"
     ]
    },
    {
     "name": "stderr",
     "output_type": "stream",
     "text": [
      "Procesando DeepFakeDetection:  88%|████████▊ | 175/200 [07:32<01:18,  3.14s/it]"
     ]
    },
    {
     "name": "stdout",
     "output_type": "stream",
     "text": [
      "[DESCARTADO] Solo se generaron 1/16 muestras válidas para el video: 03_21__secret_conversation__YCSEBZO4\n"
     ]
    },
    {
     "name": "stderr",
     "output_type": "stream",
     "text": [
      "Procesando DeepFakeDetection:  90%|████████▉ | 179/200 [07:38<00:46,  2.23s/it]"
     ]
    },
    {
     "name": "stdout",
     "output_type": "stream",
     "text": [
      "[DESCARTADO] Solo se generaron 2/16 muestras válidas para el video: 03_26__walk_down_hall_angry__WBSXBL82\n"
     ]
    },
    {
     "name": "stderr",
     "output_type": "stream",
     "text": [
      "Procesando DeepFakeDetection:  91%|█████████ | 182/200 [07:46<00:45,  2.55s/it]"
     ]
    },
    {
     "name": "stdout",
     "output_type": "stream",
     "text": [
      "[DESCARTADO] Solo se generaron 2/16 muestras válidas para el video: 03_27__walk_down_hall_angry__IL675GCI\n"
     ]
    },
    {
     "name": "stderr",
     "output_type": "stream",
     "text": [
      "Procesando DeepFakeDetection:  94%|█████████▎| 187/200 [07:54<00:28,  2.16s/it]"
     ]
    },
    {
     "name": "stdout",
     "output_type": "stream",
     "text": [
      "[DESCARTADO] Solo se generaron 0/16 muestras válidas para el video: 04_01__outside_talking_still_laughing__0XUW13RW\n"
     ]
    },
    {
     "name": "stderr",
     "output_type": "stream",
     "text": [
      "Procesando DeepFakeDetection:  94%|█████████▍| 188/200 [07:58<00:31,  2.61s/it]"
     ]
    },
    {
     "name": "stdout",
     "output_type": "stream",
     "text": [
      "[DESCARTADO] Solo se generaron 0/16 muestras válidas para el video: 04_01__outside_talking_still_laughing__6I623VU9\n"
     ]
    },
    {
     "name": "stderr",
     "output_type": "stream",
     "text": [
      "Procesando DeepFakeDetection:  94%|█████████▍| 189/200 [08:02<00:33,  3.05s/it]"
     ]
    },
    {
     "name": "stdout",
     "output_type": "stream",
     "text": [
      "[DESCARTADO] Solo se generaron 1/16 muestras válidas para el video: 04_01__secret_conversation__6I623VU9\n"
     ]
    },
    {
     "name": "stderr",
     "output_type": "stream",
     "text": [
      "Procesando DeepFakeDetection:  95%|█████████▌| 190/200 [08:06<00:32,  3.30s/it]"
     ]
    },
    {
     "name": "stdout",
     "output_type": "stream",
     "text": [
      "[DESCARTADO] Solo se generaron 10/16 muestras válidas para el video: 04_01__walking_down_street_outside_angry__GBC7ZGDP\n"
     ]
    },
    {
     "name": "stderr",
     "output_type": "stream",
     "text": [
      "Procesando DeepFakeDetection:  96%|█████████▌| 191/200 [08:09<00:28,  3.21s/it]"
     ]
    },
    {
     "name": "stdout",
     "output_type": "stream",
     "text": [
      "[DESCARTADO] Solo se generaron 6/16 muestras válidas para el video: 04_01__walk_down_hall_angry__GBC7ZGDP\n"
     ]
    },
    {
     "name": "stderr",
     "output_type": "stream",
     "text": [
      "Procesando DeepFakeDetection:  98%|█████████▊| 195/200 [08:16<00:11,  2.39s/it]"
     ]
    },
    {
     "name": "stdout",
     "output_type": "stream",
     "text": [
      "[DESCARTADO] Solo se generaron 0/16 muestras válidas para el video: 04_07__outside_talking_still_laughing__QKCCFKBT\n"
     ]
    },
    {
     "name": "stderr",
     "output_type": "stream",
     "text": [
      "Procesando DeepFakeDetection:  98%|█████████▊| 196/200 [08:20<00:11,  2.78s/it]"
     ]
    },
    {
     "name": "stdout",
     "output_type": "stream",
     "text": [
      "[DESCARTADO] Solo se generaron 0/16 muestras válidas para el video: 04_07__outside_talking_still_laughing__XRK7FGZX\n"
     ]
    },
    {
     "name": "stderr",
     "output_type": "stream",
     "text": [
      "Procesando DeepFakeDetection:  98%|█████████▊| 197/200 [08:24<00:09,  3.10s/it]"
     ]
    },
    {
     "name": "stdout",
     "output_type": "stream",
     "text": [
      "[DESCARTADO] Solo se generaron 8/16 muestras válidas para el video: 04_12__walking_down_street_outside_angry__96TQKDFJ\n"
     ]
    },
    {
     "name": "stderr",
     "output_type": "stream",
     "text": [
      "Procesando DeepFakeDetection: 100%|█████████▉| 199/200 [08:29<00:02,  2.99s/it]"
     ]
    },
    {
     "name": "stdout",
     "output_type": "stream",
     "text": [
      "[DESCARTADO] Solo se generaron 0/16 muestras válidas para el video: 04_13__secret_conversation__00T3UYOR\n"
     ]
    },
    {
     "name": "stderr",
     "output_type": "stream",
     "text": [
      "Procesando DeepFakeDetection: 100%|██████████| 200/200 [08:33<00:00,  2.57s/it]\n"
     ]
    },
    {
     "name": "stdout",
     "output_type": "stream",
     "text": [
      "[DESCARTADO] Solo se generaron 14/16 muestras válidas para el video: 04_13__walking_down_street_outside_angry__00T3UYOR\n"
     ]
    },
    {
     "name": "stderr",
     "output_type": "stream",
     "text": [
      "Procesando Deepfakes:  17%|█▋        | 34/200 [00:14<02:17,  1.21it/s]"
     ]
    },
    {
     "name": "stdout",
     "output_type": "stream",
     "text": [
      "[DESCARTADO] Solo se generaron 15/16 muestras válidas para el video: 033_097\n"
     ]
    },
    {
     "name": "stderr",
     "output_type": "stream",
     "text": [
      "Procesando Deepfakes:  48%|████▊     | 97/200 [00:50<04:07,  2.40s/it]"
     ]
    },
    {
     "name": "stdout",
     "output_type": "stream",
     "text": [
      "[DESCARTADO] Solo se generaron 0/16 muestras válidas para el video: 096_101\n"
     ]
    },
    {
     "name": "stderr",
     "output_type": "stream",
     "text": [
      "Procesando Deepfakes:  78%|███████▊  | 157/200 [01:16<00:30,  1.41it/s]"
     ]
    },
    {
     "name": "stdout",
     "output_type": "stream",
     "text": [
      "[DESCARTADO] Solo se generaron 0/16 muestras válidas para el video: 156_243\n"
     ]
    },
    {
     "name": "stderr",
     "output_type": "stream",
     "text": [
      "Procesando Deepfakes: 100%|██████████| 200/200 [01:37<00:00,  2.06it/s]\n",
      "Procesando Face2Face:  17%|█▋        | 34/200 [00:14<02:16,  1.22it/s]"
     ]
    },
    {
     "name": "stdout",
     "output_type": "stream",
     "text": [
      "[DESCARTADO] Solo se generaron 11/16 muestras válidas para el video: 033_097\n"
     ]
    },
    {
     "name": "stderr",
     "output_type": "stream",
     "text": [
      "Procesando Face2Face:  48%|████▊     | 97/200 [00:49<04:01,  2.34s/it]"
     ]
    },
    {
     "name": "stdout",
     "output_type": "stream",
     "text": [
      "[DESCARTADO] Solo se generaron 0/16 muestras válidas para el video: 096_101\n"
     ]
    },
    {
     "name": "stderr",
     "output_type": "stream",
     "text": [
      "Procesando Face2Face:  78%|███████▊  | 157/200 [01:13<00:26,  1.60it/s]"
     ]
    },
    {
     "name": "stdout",
     "output_type": "stream",
     "text": [
      "[DESCARTADO] Solo se generaron 1/16 muestras válidas para el video: 156_243\n"
     ]
    },
    {
     "name": "stderr",
     "output_type": "stream",
     "text": [
      "Procesando Face2Face: 100%|██████████| 200/200 [01:33<00:00,  2.14it/s]\n",
      "Procesando FaceShifter:  48%|████▊     | 97/200 [00:49<04:07,  2.41s/it]"
     ]
    },
    {
     "name": "stdout",
     "output_type": "stream",
     "text": [
      "[DESCARTADO] Solo se generaron 0/16 muestras válidas para el video: 096_101\n"
     ]
    },
    {
     "name": "stderr",
     "output_type": "stream",
     "text": [
      "Procesando FaceShifter:  78%|███████▊  | 157/200 [01:15<00:30,  1.39it/s]"
     ]
    },
    {
     "name": "stdout",
     "output_type": "stream",
     "text": [
      "[DESCARTADO] Solo se generaron 0/16 muestras válidas para el video: 156_243\n"
     ]
    },
    {
     "name": "stderr",
     "output_type": "stream",
     "text": [
      "Procesando FaceShifter:  92%|█████████▎| 185/200 [01:29<00:14,  1.05it/s]"
     ]
    },
    {
     "name": "stdout",
     "output_type": "stream",
     "text": [
      "[DESCARTADO] Solo se generaron 8/16 muestras válidas para el video: 184_205\n"
     ]
    },
    {
     "name": "stderr",
     "output_type": "stream",
     "text": [
      "Procesando FaceShifter: 100%|██████████| 200/200 [01:37<00:00,  2.04it/s]\n",
      "Procesando FaceSwap:  48%|████▊     | 97/200 [00:46<04:03,  2.36s/it]"
     ]
    },
    {
     "name": "stdout",
     "output_type": "stream",
     "text": [
      "[DESCARTADO] Solo se generaron 0/16 muestras válidas para el video: 096_101\n"
     ]
    },
    {
     "name": "stderr",
     "output_type": "stream",
     "text": [
      "Procesando FaceSwap:  78%|███████▊  | 157/200 [01:09<00:27,  1.59it/s]"
     ]
    },
    {
     "name": "stdout",
     "output_type": "stream",
     "text": [
      "[DESCARTADO] Solo se generaron 3/16 muestras válidas para el video: 156_243\n"
     ]
    },
    {
     "name": "stderr",
     "output_type": "stream",
     "text": [
      "Procesando FaceSwap: 100%|██████████| 200/200 [01:28<00:00,  2.27it/s]\n"
     ]
    }
   ],
   "source": [
    "# Ejecutar preprocesamiento\n",
    "process_folder(original_folder, max_original_videos, label=\"real\")\n",
    "for folder in deepfake_folders:\n",
    "    process_folder(folder, max_fake_videos_per_folder, label=\"fake\")"
   ]
  }
 ],
 "metadata": {
  "kernelspec": {
   "display_name": ".venv-mediapipe",
   "language": "python",
   "name": "python3"
  },
  "language_info": {
   "codemirror_mode": {
    "name": "ipython",
    "version": 3
   },
   "file_extension": ".py",
   "mimetype": "text/x-python",
   "name": "python",
   "nbconvert_exporter": "python",
   "pygments_lexer": "ipython3",
   "version": "3.10.0"
  }
 },
 "nbformat": 4,
 "nbformat_minor": 5
}
